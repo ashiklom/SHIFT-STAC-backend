{
 "cells": [
  {
   "cell_type": "code",
   "execution_count": 67,
   "id": "58b2f6bb-fd12-4b6e-9963-6311ec1f25e6",
   "metadata": {},
   "outputs": [],
   "source": [
    "import rioxarray\n",
    "import xarray as xr\n",
    "import numpy as np\n",
    "\n",
    "import os\n",
    "import glob\n",
    "import pathlib\n",
    "import json\n",
    "import boto3\n",
    "import s3fs\n",
    "import shutil\n",
    "from typing import Any, Dict, Generic, Iterable, List, Optional, TypeVar, Union, cast\n",
    "from datetime import datetime\n",
    "from pprint import pprint\n",
    "\n",
    "import geopandas as gpd\n",
    "from shapely.geometry import box, mapping, Polygon, LinearRing\n",
    "import warnings\n",
    "warnings.filterwarnings(\"ignore\")\n",
    "\n",
    "import matplotlib.pyplot as plt\n",
    "%matplotlib inline"
   ]
  },
  {
   "cell_type": "code",
   "execution_count": 4,
   "id": "b68f5126-fda7-4dc2-92a7-19edb9277146",
   "metadata": {},
   "outputs": [],
   "source": [
    "# Delete this block once we are in GDAL >= 3.5\n",
    "\n",
    "awsdir = pathlib.Path(\"~/.aws\").expanduser()\n",
    "awsdir.mkdir(exist_ok=True)\n",
    "awscred = awsdir / \"credentials\"\n",
    "\n",
    "session = boto3.session.Session()\n",
    "credentials = session.get_credentials()\n",
    "credentials = credentials.get_frozen_credentials()\n",
    "\n",
    "#Credentials are refreshable, so accessing your access key / secret key\n",
    "#separately can lead to a race condition. Use this to get an actual matched\n",
    "#set. \n",
    "\n",
    "outstring = f\"\"\"\n",
    "[default]\n",
    "aws_access_key_id={credentials.access_key}\n",
    "aws_secret_access_key={credentials.secret_key}\n",
    "aws_session_token={credentials.token}\n",
    "\"\"\"\n",
    "with awscred.open(mode='w') as f:\n",
    "    f.write(outstring)"
   ]
  },
  {
   "cell_type": "code",
   "execution_count": 5,
   "id": "b0e47e4e-3d72-4c89-bbff-d88150bfd40c",
   "metadata": {},
   "outputs": [],
   "source": [
    "Bucket = \"dh-shift-curated\""
   ]
  },
  {
   "cell_type": "code",
   "execution_count": 65,
   "id": "cf814eb1-58ad-4ecc-837b-69ff297bf587",
   "metadata": {},
   "outputs": [],
   "source": [
    "# additional dates after 20220412 to be added later\n",
    "dates = ['20220224', \n",
    "         '20220228', \n",
    "         #'20220308', \n",
    "         '20220316', \n",
    "         '20220322', \n",
    "         '20220405', \n",
    "         '20220412'\n",
    "        ]"
   ]
  },
  {
   "cell_type": "code",
   "execution_count": 63,
   "id": "0101219d-283a-4f97-8494-48bafb4820cc",
   "metadata": {},
   "outputs": [],
   "source": [
    "# Read in data from S3 bucket\n",
    "def get_zarrs(Bucket, dataset_date):\n",
    "    s3 = boto3.client('s3')\n",
    "    Prefix = f'aviris/{dataset_date}'\n",
    "    kwargs = {'Bucket': Bucket, 'Prefix': Prefix}\n",
    "    substring = '100-100-100.zarr'\n",
    "    links = []\n",
    "    while True:\n",
    "        objects = s3.list_objects_v2(**kwargs)\n",
    "        for obj in objects['Contents']:\n",
    "            if substring in obj['Key']:\n",
    "                key = obj['Key']\n",
    "                url = key[:key.index(substring)+ len(substring)]\n",
    "                zarr = url.replace(f\"aviris/{dataset_date}/\", \"\")\n",
    "                links.append(str(zarr))\n",
    "\n",
    "        try:\n",
    "            kwargs['ContinuationToken'] = objects['NextContinuationToken']\n",
    "        except KeyError:\n",
    "            break\n",
    "\n",
    "    data_set = set(links)\n",
    "    data = list(data_set)\n",
    "    pprint(data) # see results\n",
    "    return data"
   ]
  },
  {
   "cell_type": "code",
   "execution_count": 64,
   "id": "1db218dd-4bbb-48b1-83d3-6d0172cae7e7",
   "metadata": {},
   "outputs": [],
   "source": [
    "def test_zarr(Bucket, dataset_date, zarr):\n",
    "    Prefix = f\"aviris/{dataset_date}/{zarr}\"\n",
    "    s3_key = os.path.join(Bucket, Prefix)\n",
    "\n",
    "    # Open flight path zarr\n",
    "    s3 = s3fs.S3FileSystem(anon=False, client_kwargs=dict(region_name='us-west-2'))\n",
    "    s3_path = f\"s3://{s3_key}\"\n",
    "    store = s3fs.S3Map(root=s3_path, s3=s3, check=False)\n",
    "    ds = xr.open_zarr(store=store, decode_coords=\"all\", consolidated=True)\n",
    "\n",
    "    # Set dimensions and coordinates\n",
    "    ds = ds.rio.set_spatial_dims(x_dim='x', y_dim='y')\n",
    "    ds = ds.set_coords(('Easting', 'Northing'))\n",
    "\n",
    "    if np.isnan(np.max(ds.Easting.values)) or np.isnan(np.min(ds.Easting.values)) or np.isnan(np.max(ds.Northing.values)) or np.isnan(np.min(ds.Northing.values)):\n",
    "        print(\"Error with Zarr!\")\n",
    "        bad_zarrs.append(zarr)\n",
    "    else:\n",
    "        print(\"Zarr ok!\")\n",
    "        print(\"Max Easting:\", np.max(ds.Easting.values))\n",
    "        print(\"Min Easting:\", np.min(ds.Easting.values))\n",
    "        print(\"Max Northing:\", np.max(ds.Northing.values))\n",
    "        print(\"Min Northing:\", np.min(ds.Northing.values))\n",
    "\n",
    "        # Calculate extent, bbox, and footprint using Easting & Northing\n",
    "        ul = ds.isel(x=0, y=0)  # Upper left corner\n",
    "        ur = ds.isel(x=-1, y=0) # Upper right corner\n",
    "        ll = ds.isel(x=0, y=-1) # Lower left corner\n",
    "        lr = ds.isel(x=-1, y=-1) # Lower right corner\n",
    "\n",
    "        ul2 = (np.min(ul.Easting.values), np.max(ul.Northing.values))\n",
    "        ur2 = (np.max(ur.Easting.values), np.max(ur.Northing.values))\n",
    "        ll2 = (np.min(ll.Easting.values), np.min(ll.Northing.values))\n",
    "        lr2 = (np.max(lr.Easting.values), np.min(lr.Northing.values))\n",
    "\n",
    "        extent = Polygon([ul2, ll2, lr2, ur2])\n",
    "        bbox = extent.bounds\n",
    "        print(extent)\n",
    "        print(bbox)\n",
    "\n",
    "        good_zarrs.append(zarr)\n",
    "\n",
    "        #plt.plot(*extent.exterior.xy)"
   ]
  },
  {
   "cell_type": "code",
   "execution_count": 66,
   "id": "438986d4-42f6-41ff-9213-8bc8c9099ed1",
   "metadata": {},
   "outputs": [
    {
     "name": "stdout",
     "output_type": "stream",
     "text": [
      "['ang20220224t203333_100-100-100.zarr',\n",
      " 'ang20220224t215759_100-100-100.zarr',\n",
      " 'ang20220224t204803_100-100-100.zarr',\n",
      " 'ang20220224t221356_100-100-100.zarr',\n",
      " 'ang20220224t210144_100-100-100.zarr',\n",
      " 'ang20220224t195402_100-100-100.zarr',\n",
      " 'ang20220224t200332_100-100-100.zarr',\n",
      " 'ang20220224t201928_100-100-100.zarr',\n",
      " 'ang20220224t223027_100-100-100.zarr',\n",
      " 'ang20220224t211618_100-100-100.zarr',\n",
      " 'ang20220224t214423_100-100-100.zarr',\n",
      " 'ang20220224t213004_100-100-100.zarr']\n",
      "Zarr ok!\n",
      "Max Easting: 778165.793958545\n",
      "Min Easting: 721388.0436476368\n",
      "Max Northing: 3862191.6675922186\n",
      "Min Northing: 3816086.3252756973\n",
      "POLYGON ((776769.7982585812 3862191.6675922186, 721415.6553595056 3818513.9878858975, 723114.6965541189 3816086.3252756973, 778165.793958545 3860194.097782634, 776769.7982585812 3862191.6675922186))\n",
      "(721415.6553595056, 3816086.3252756973, 778165.793958545, 3862191.6675922186)\n",
      "Zarr ok!\n",
      "Max Easting: 785953.8939237966\n",
      "Min Easting: 729214.9556440044\n",
      "Max Northing: 3852283.067099589\n",
      "Min Northing: 3806285.088070505\n",
      "POLYGON ((784598.1864618052 3852283.067099589, 729214.9556440044 3808759.729297141, 730856.5057942822 3806285.088070505, 785953.8939237966 3850395.993610777, 784598.1864618052 3852283.067099589))\n",
      "(729214.9556440044, 3806285.088070505, 785953.8939237966, 3852283.067099589)\n"
     ]
    },
    {
     "ename": "KeyboardInterrupt",
     "evalue": "",
     "output_type": "error",
     "traceback": [
      "\u001b[0;31m---------------------------------------------------------------------------\u001b[0m",
      "\u001b[0;31mKeyboardInterrupt\u001b[0m                         Traceback (most recent call last)",
      "Input \u001b[0;32mIn [66]\u001b[0m, in \u001b[0;36m<cell line: 4>\u001b[0;34m()\u001b[0m\n\u001b[1;32m      5\u001b[0m     data \u001b[38;5;241m=\u001b[39m get_zarrs(Bucket, dataset_date)\n\u001b[1;32m      6\u001b[0m     \u001b[38;5;28;01mfor\u001b[39;00m zarr \u001b[38;5;129;01min\u001b[39;00m data:\n\u001b[0;32m----> 7\u001b[0m         \u001b[43mtest_zarr\u001b[49m\u001b[43m(\u001b[49m\u001b[43mBucket\u001b[49m\u001b[43m,\u001b[49m\u001b[43m \u001b[49m\u001b[43mdataset_date\u001b[49m\u001b[43m,\u001b[49m\u001b[43m \u001b[49m\u001b[43mzarr\u001b[49m\u001b[43m)\u001b[49m\n\u001b[1;32m      9\u001b[0m \u001b[38;5;28mprint\u001b[39m(\u001b[38;5;124m\"\u001b[39m\u001b[38;5;124mBad Zarrs:\u001b[39m\u001b[38;5;124m\"\u001b[39m, bad_zarrs)\n\u001b[1;32m     10\u001b[0m \u001b[38;5;28mprint\u001b[39m(\u001b[38;5;124m\"\u001b[39m\u001b[38;5;124mGood Zarrs:\u001b[39m\u001b[38;5;124m\"\u001b[39m, good_zarrs)\n",
      "Input \u001b[0;32mIn [64]\u001b[0m, in \u001b[0;36mtest_zarr\u001b[0;34m(Bucket, dataset_date, zarr)\u001b[0m\n\u001b[1;32m     12\u001b[0m ds \u001b[38;5;241m=\u001b[39m ds\u001b[38;5;241m.\u001b[39mrio\u001b[38;5;241m.\u001b[39mset_spatial_dims(x_dim\u001b[38;5;241m=\u001b[39m\u001b[38;5;124m'\u001b[39m\u001b[38;5;124mx\u001b[39m\u001b[38;5;124m'\u001b[39m, y_dim\u001b[38;5;241m=\u001b[39m\u001b[38;5;124m'\u001b[39m\u001b[38;5;124my\u001b[39m\u001b[38;5;124m'\u001b[39m)\n\u001b[1;32m     13\u001b[0m ds \u001b[38;5;241m=\u001b[39m ds\u001b[38;5;241m.\u001b[39mset_coords((\u001b[38;5;124m'\u001b[39m\u001b[38;5;124mEasting\u001b[39m\u001b[38;5;124m'\u001b[39m, \u001b[38;5;124m'\u001b[39m\u001b[38;5;124mNorthing\u001b[39m\u001b[38;5;124m'\u001b[39m))\n\u001b[0;32m---> 15\u001b[0m \u001b[38;5;28;01mif\u001b[39;00m np\u001b[38;5;241m.\u001b[39misnan(np\u001b[38;5;241m.\u001b[39mmax(\u001b[43mds\u001b[49m\u001b[38;5;241;43m.\u001b[39;49m\u001b[43mEasting\u001b[49m\u001b[38;5;241;43m.\u001b[39;49m\u001b[43mvalues\u001b[49m)) \u001b[38;5;129;01mor\u001b[39;00m np\u001b[38;5;241m.\u001b[39misnan(np\u001b[38;5;241m.\u001b[39mmin(ds\u001b[38;5;241m.\u001b[39mEasting\u001b[38;5;241m.\u001b[39mvalues)) \u001b[38;5;129;01mor\u001b[39;00m np\u001b[38;5;241m.\u001b[39misnan(np\u001b[38;5;241m.\u001b[39mmax(ds\u001b[38;5;241m.\u001b[39mNorthing\u001b[38;5;241m.\u001b[39mvalues)) \u001b[38;5;129;01mor\u001b[39;00m np\u001b[38;5;241m.\u001b[39misnan(np\u001b[38;5;241m.\u001b[39mmin(ds\u001b[38;5;241m.\u001b[39mNorthing\u001b[38;5;241m.\u001b[39mvalues)):\n\u001b[1;32m     16\u001b[0m     \u001b[38;5;28mprint\u001b[39m(\u001b[38;5;124m\"\u001b[39m\u001b[38;5;124mError with Zarr!\u001b[39m\u001b[38;5;124m\"\u001b[39m)\n\u001b[1;32m     17\u001b[0m     bad_zarrs\u001b[38;5;241m.\u001b[39mappend(zarr)\n",
      "File \u001b[0;32m/opt/conda/lib/python3.9/site-packages/xarray/core/dataarray.py:642\u001b[0m, in \u001b[0;36mDataArray.values\u001b[0;34m(self)\u001b[0m\n\u001b[1;32m    633\u001b[0m \u001b[38;5;129m@property\u001b[39m\n\u001b[1;32m    634\u001b[0m \u001b[38;5;28;01mdef\u001b[39;00m \u001b[38;5;21mvalues\u001b[39m(\u001b[38;5;28mself\u001b[39m) \u001b[38;5;241m-\u001b[39m\u001b[38;5;241m>\u001b[39m np\u001b[38;5;241m.\u001b[39mndarray:\n\u001b[1;32m    635\u001b[0m     \u001b[38;5;124;03m\"\"\"\u001b[39;00m\n\u001b[1;32m    636\u001b[0m \u001b[38;5;124;03m    The array's data as a numpy.ndarray.\u001b[39;00m\n\u001b[1;32m    637\u001b[0m \n\u001b[0;32m   (...)\u001b[0m\n\u001b[1;32m    640\u001b[0m \u001b[38;5;124;03m    type does not support coercion like this (e.g. cupy).\u001b[39;00m\n\u001b[1;32m    641\u001b[0m \u001b[38;5;124;03m    \"\"\"\u001b[39;00m\n\u001b[0;32m--> 642\u001b[0m     \u001b[38;5;28;01mreturn\u001b[39;00m \u001b[38;5;28;43mself\u001b[39;49m\u001b[38;5;241;43m.\u001b[39;49m\u001b[43mvariable\u001b[49m\u001b[38;5;241;43m.\u001b[39;49m\u001b[43mvalues\u001b[49m\n",
      "File \u001b[0;32m/opt/conda/lib/python3.9/site-packages/xarray/core/variable.py:512\u001b[0m, in \u001b[0;36mVariable.values\u001b[0;34m(self)\u001b[0m\n\u001b[1;32m    509\u001b[0m \u001b[38;5;129m@property\u001b[39m\n\u001b[1;32m    510\u001b[0m \u001b[38;5;28;01mdef\u001b[39;00m \u001b[38;5;21mvalues\u001b[39m(\u001b[38;5;28mself\u001b[39m):\n\u001b[1;32m    511\u001b[0m     \u001b[38;5;124;03m\"\"\"The variable's data as a numpy.ndarray\"\"\"\u001b[39;00m\n\u001b[0;32m--> 512\u001b[0m     \u001b[38;5;28;01mreturn\u001b[39;00m \u001b[43m_as_array_or_item\u001b[49m\u001b[43m(\u001b[49m\u001b[38;5;28;43mself\u001b[39;49m\u001b[38;5;241;43m.\u001b[39;49m\u001b[43m_data\u001b[49m\u001b[43m)\u001b[49m\n",
      "File \u001b[0;32m/opt/conda/lib/python3.9/site-packages/xarray/core/variable.py:252\u001b[0m, in \u001b[0;36m_as_array_or_item\u001b[0;34m(data)\u001b[0m\n\u001b[1;32m    238\u001b[0m \u001b[38;5;28;01mdef\u001b[39;00m \u001b[38;5;21m_as_array_or_item\u001b[39m(data):\n\u001b[1;32m    239\u001b[0m     \u001b[38;5;124;03m\"\"\"Return the given values as a numpy array, or as an individual item if\u001b[39;00m\n\u001b[1;32m    240\u001b[0m \u001b[38;5;124;03m    it's a 0d datetime64 or timedelta64 array.\u001b[39;00m\n\u001b[1;32m    241\u001b[0m \n\u001b[0;32m   (...)\u001b[0m\n\u001b[1;32m    250\u001b[0m \u001b[38;5;124;03m    TODO: remove this (replace with np.asarray) once these issues are fixed\u001b[39;00m\n\u001b[1;32m    251\u001b[0m \u001b[38;5;124;03m    \"\"\"\u001b[39;00m\n\u001b[0;32m--> 252\u001b[0m     data \u001b[38;5;241m=\u001b[39m \u001b[43mnp\u001b[49m\u001b[38;5;241;43m.\u001b[39;49m\u001b[43masarray\u001b[49m\u001b[43m(\u001b[49m\u001b[43mdata\u001b[49m\u001b[43m)\u001b[49m\n\u001b[1;32m    253\u001b[0m     \u001b[38;5;28;01mif\u001b[39;00m data\u001b[38;5;241m.\u001b[39mndim \u001b[38;5;241m==\u001b[39m \u001b[38;5;241m0\u001b[39m:\n\u001b[1;32m    254\u001b[0m         \u001b[38;5;28;01mif\u001b[39;00m data\u001b[38;5;241m.\u001b[39mdtype\u001b[38;5;241m.\u001b[39mkind \u001b[38;5;241m==\u001b[39m \u001b[38;5;124m\"\u001b[39m\u001b[38;5;124mM\u001b[39m\u001b[38;5;124m\"\u001b[39m:\n",
      "File \u001b[0;32m/opt/conda/lib/python3.9/site-packages/numpy/core/_asarray.py:83\u001b[0m, in \u001b[0;36masarray\u001b[0;34m(a, dtype, order)\u001b[0m\n\u001b[1;32m     14\u001b[0m \u001b[38;5;129m@set_module\u001b[39m(\u001b[38;5;124m'\u001b[39m\u001b[38;5;124mnumpy\u001b[39m\u001b[38;5;124m'\u001b[39m)\n\u001b[1;32m     15\u001b[0m \u001b[38;5;28;01mdef\u001b[39;00m \u001b[38;5;21masarray\u001b[39m(a, dtype\u001b[38;5;241m=\u001b[39m\u001b[38;5;28;01mNone\u001b[39;00m, order\u001b[38;5;241m=\u001b[39m\u001b[38;5;28;01mNone\u001b[39;00m):\n\u001b[1;32m     16\u001b[0m     \u001b[38;5;124;03m\"\"\"Convert the input to an array.\u001b[39;00m\n\u001b[1;32m     17\u001b[0m \n\u001b[1;32m     18\u001b[0m \u001b[38;5;124;03m    Parameters\u001b[39;00m\n\u001b[0;32m   (...)\u001b[0m\n\u001b[1;32m     81\u001b[0m \n\u001b[1;32m     82\u001b[0m \u001b[38;5;124;03m    \"\"\"\u001b[39;00m\n\u001b[0;32m---> 83\u001b[0m     \u001b[38;5;28;01mreturn\u001b[39;00m \u001b[43marray\u001b[49m\u001b[43m(\u001b[49m\u001b[43ma\u001b[49m\u001b[43m,\u001b[49m\u001b[43m \u001b[49m\u001b[43mdtype\u001b[49m\u001b[43m,\u001b[49m\u001b[43m \u001b[49m\u001b[43mcopy\u001b[49m\u001b[38;5;241;43m=\u001b[39;49m\u001b[38;5;28;43;01mFalse\u001b[39;49;00m\u001b[43m,\u001b[49m\u001b[43m \u001b[49m\u001b[43morder\u001b[49m\u001b[38;5;241;43m=\u001b[39;49m\u001b[43morder\u001b[49m\u001b[43m)\u001b[49m\n",
      "File \u001b[0;32m/opt/conda/lib/python3.9/site-packages/dask/array/core.py:1626\u001b[0m, in \u001b[0;36mArray.__array__\u001b[0;34m(self, dtype, **kwargs)\u001b[0m\n\u001b[1;32m   1625\u001b[0m \u001b[38;5;28;01mdef\u001b[39;00m \u001b[38;5;21m__array__\u001b[39m(\u001b[38;5;28mself\u001b[39m, dtype\u001b[38;5;241m=\u001b[39m\u001b[38;5;28;01mNone\u001b[39;00m, \u001b[38;5;241m*\u001b[39m\u001b[38;5;241m*\u001b[39mkwargs):\n\u001b[0;32m-> 1626\u001b[0m     x \u001b[38;5;241m=\u001b[39m \u001b[38;5;28;43mself\u001b[39;49m\u001b[38;5;241;43m.\u001b[39;49m\u001b[43mcompute\u001b[49m\u001b[43m(\u001b[49m\u001b[43m)\u001b[49m\n\u001b[1;32m   1627\u001b[0m     \u001b[38;5;28;01mif\u001b[39;00m dtype \u001b[38;5;129;01mand\u001b[39;00m x\u001b[38;5;241m.\u001b[39mdtype \u001b[38;5;241m!=\u001b[39m dtype:\n\u001b[1;32m   1628\u001b[0m         x \u001b[38;5;241m=\u001b[39m x\u001b[38;5;241m.\u001b[39mastype(dtype)\n",
      "File \u001b[0;32m/opt/conda/lib/python3.9/site-packages/dask/base.py:290\u001b[0m, in \u001b[0;36mDaskMethodsMixin.compute\u001b[0;34m(self, **kwargs)\u001b[0m\n\u001b[1;32m    266\u001b[0m \u001b[38;5;28;01mdef\u001b[39;00m \u001b[38;5;21mcompute\u001b[39m(\u001b[38;5;28mself\u001b[39m, \u001b[38;5;241m*\u001b[39m\u001b[38;5;241m*\u001b[39mkwargs):\n\u001b[1;32m    267\u001b[0m     \u001b[38;5;124;03m\"\"\"Compute this dask collection\u001b[39;00m\n\u001b[1;32m    268\u001b[0m \n\u001b[1;32m    269\u001b[0m \u001b[38;5;124;03m    This turns a lazy Dask collection into its in-memory equivalent.\u001b[39;00m\n\u001b[0;32m   (...)\u001b[0m\n\u001b[1;32m    288\u001b[0m \u001b[38;5;124;03m    dask.base.compute\u001b[39;00m\n\u001b[1;32m    289\u001b[0m \u001b[38;5;124;03m    \"\"\"\u001b[39;00m\n\u001b[0;32m--> 290\u001b[0m     (result,) \u001b[38;5;241m=\u001b[39m \u001b[43mcompute\u001b[49m\u001b[43m(\u001b[49m\u001b[38;5;28;43mself\u001b[39;49m\u001b[43m,\u001b[49m\u001b[43m \u001b[49m\u001b[43mtraverse\u001b[49m\u001b[38;5;241;43m=\u001b[39;49m\u001b[38;5;28;43;01mFalse\u001b[39;49;00m\u001b[43m,\u001b[49m\u001b[43m \u001b[49m\u001b[38;5;241;43m*\u001b[39;49m\u001b[38;5;241;43m*\u001b[39;49m\u001b[43mkwargs\u001b[49m\u001b[43m)\u001b[49m\n\u001b[1;32m    291\u001b[0m     \u001b[38;5;28;01mreturn\u001b[39;00m result\n",
      "File \u001b[0;32m/opt/conda/lib/python3.9/site-packages/dask/base.py:573\u001b[0m, in \u001b[0;36mcompute\u001b[0;34m(traverse, optimize_graph, scheduler, get, *args, **kwargs)\u001b[0m\n\u001b[1;32m    570\u001b[0m     keys\u001b[38;5;241m.\u001b[39mappend(x\u001b[38;5;241m.\u001b[39m__dask_keys__())\n\u001b[1;32m    571\u001b[0m     postcomputes\u001b[38;5;241m.\u001b[39mappend(x\u001b[38;5;241m.\u001b[39m__dask_postcompute__())\n\u001b[0;32m--> 573\u001b[0m results \u001b[38;5;241m=\u001b[39m \u001b[43mschedule\u001b[49m\u001b[43m(\u001b[49m\u001b[43mdsk\u001b[49m\u001b[43m,\u001b[49m\u001b[43m \u001b[49m\u001b[43mkeys\u001b[49m\u001b[43m,\u001b[49m\u001b[43m \u001b[49m\u001b[38;5;241;43m*\u001b[39;49m\u001b[38;5;241;43m*\u001b[39;49m\u001b[43mkwargs\u001b[49m\u001b[43m)\u001b[49m\n\u001b[1;32m    574\u001b[0m \u001b[38;5;28;01mreturn\u001b[39;00m repack([f(r, \u001b[38;5;241m*\u001b[39ma) \u001b[38;5;28;01mfor\u001b[39;00m r, (f, a) \u001b[38;5;129;01min\u001b[39;00m \u001b[38;5;28mzip\u001b[39m(results, postcomputes)])\n",
      "File \u001b[0;32m/opt/conda/lib/python3.9/site-packages/dask/threaded.py:81\u001b[0m, in \u001b[0;36mget\u001b[0;34m(dsk, result, cache, num_workers, pool, **kwargs)\u001b[0m\n\u001b[1;32m     78\u001b[0m     \u001b[38;5;28;01melif\u001b[39;00m \u001b[38;5;28misinstance\u001b[39m(pool, multiprocessing\u001b[38;5;241m.\u001b[39mpool\u001b[38;5;241m.\u001b[39mPool):\n\u001b[1;32m     79\u001b[0m         pool \u001b[38;5;241m=\u001b[39m MultiprocessingPoolExecutor(pool)\n\u001b[0;32m---> 81\u001b[0m results \u001b[38;5;241m=\u001b[39m \u001b[43mget_async\u001b[49m\u001b[43m(\u001b[49m\n\u001b[1;32m     82\u001b[0m \u001b[43m    \u001b[49m\u001b[43mpool\u001b[49m\u001b[38;5;241;43m.\u001b[39;49m\u001b[43msubmit\u001b[49m\u001b[43m,\u001b[49m\n\u001b[1;32m     83\u001b[0m \u001b[43m    \u001b[49m\u001b[43mpool\u001b[49m\u001b[38;5;241;43m.\u001b[39;49m\u001b[43m_max_workers\u001b[49m\u001b[43m,\u001b[49m\n\u001b[1;32m     84\u001b[0m \u001b[43m    \u001b[49m\u001b[43mdsk\u001b[49m\u001b[43m,\u001b[49m\n\u001b[1;32m     85\u001b[0m \u001b[43m    \u001b[49m\u001b[43mresult\u001b[49m\u001b[43m,\u001b[49m\n\u001b[1;32m     86\u001b[0m \u001b[43m    \u001b[49m\u001b[43mcache\u001b[49m\u001b[38;5;241;43m=\u001b[39;49m\u001b[43mcache\u001b[49m\u001b[43m,\u001b[49m\n\u001b[1;32m     87\u001b[0m \u001b[43m    \u001b[49m\u001b[43mget_id\u001b[49m\u001b[38;5;241;43m=\u001b[39;49m\u001b[43m_thread_get_id\u001b[49m\u001b[43m,\u001b[49m\n\u001b[1;32m     88\u001b[0m \u001b[43m    \u001b[49m\u001b[43mpack_exception\u001b[49m\u001b[38;5;241;43m=\u001b[39;49m\u001b[43mpack_exception\u001b[49m\u001b[43m,\u001b[49m\n\u001b[1;32m     89\u001b[0m \u001b[43m    \u001b[49m\u001b[38;5;241;43m*\u001b[39;49m\u001b[38;5;241;43m*\u001b[39;49m\u001b[43mkwargs\u001b[49m\u001b[43m,\u001b[49m\n\u001b[1;32m     90\u001b[0m \u001b[43m\u001b[49m\u001b[43m)\u001b[49m\n\u001b[1;32m     92\u001b[0m \u001b[38;5;66;03m# Cleanup pools associated to dead threads\u001b[39;00m\n\u001b[1;32m     93\u001b[0m \u001b[38;5;28;01mwith\u001b[39;00m pools_lock:\n",
      "File \u001b[0;32m/opt/conda/lib/python3.9/site-packages/dask/local.py:495\u001b[0m, in \u001b[0;36mget_async\u001b[0;34m(submit, num_workers, dsk, result, cache, get_id, rerun_exceptions_locally, pack_exception, raise_exception, callbacks, dumps, loads, chunksize, **kwargs)\u001b[0m\n\u001b[1;32m    493\u001b[0m \u001b[38;5;28;01mwhile\u001b[39;00m state[\u001b[38;5;124m\"\u001b[39m\u001b[38;5;124mwaiting\u001b[39m\u001b[38;5;124m\"\u001b[39m] \u001b[38;5;129;01mor\u001b[39;00m state[\u001b[38;5;124m\"\u001b[39m\u001b[38;5;124mready\u001b[39m\u001b[38;5;124m\"\u001b[39m] \u001b[38;5;129;01mor\u001b[39;00m state[\u001b[38;5;124m\"\u001b[39m\u001b[38;5;124mrunning\u001b[39m\u001b[38;5;124m\"\u001b[39m]:\n\u001b[1;32m    494\u001b[0m     fire_tasks(chunksize)\n\u001b[0;32m--> 495\u001b[0m     \u001b[38;5;28;01mfor\u001b[39;00m key, res_info, failed \u001b[38;5;129;01min\u001b[39;00m \u001b[43mqueue_get\u001b[49m\u001b[43m(\u001b[49m\u001b[43mqueue\u001b[49m\u001b[43m)\u001b[49m\u001b[38;5;241m.\u001b[39mresult():\n\u001b[1;32m    496\u001b[0m         \u001b[38;5;28;01mif\u001b[39;00m failed:\n\u001b[1;32m    497\u001b[0m             exc, tb \u001b[38;5;241m=\u001b[39m loads(res_info)\n",
      "File \u001b[0;32m/opt/conda/lib/python3.9/site-packages/dask/local.py:133\u001b[0m, in \u001b[0;36mqueue_get\u001b[0;34m(q)\u001b[0m\n\u001b[1;32m    132\u001b[0m \u001b[38;5;28;01mdef\u001b[39;00m \u001b[38;5;21mqueue_get\u001b[39m(q):\n\u001b[0;32m--> 133\u001b[0m     \u001b[38;5;28;01mreturn\u001b[39;00m \u001b[43mq\u001b[49m\u001b[38;5;241;43m.\u001b[39;49m\u001b[43mget\u001b[49m\u001b[43m(\u001b[49m\u001b[43m)\u001b[49m\n",
      "File \u001b[0;32m/opt/conda/lib/python3.9/queue.py:171\u001b[0m, in \u001b[0;36mQueue.get\u001b[0;34m(self, block, timeout)\u001b[0m\n\u001b[1;32m    169\u001b[0m \u001b[38;5;28;01melif\u001b[39;00m timeout \u001b[38;5;129;01mis\u001b[39;00m \u001b[38;5;28;01mNone\u001b[39;00m:\n\u001b[1;32m    170\u001b[0m     \u001b[38;5;28;01mwhile\u001b[39;00m \u001b[38;5;129;01mnot\u001b[39;00m \u001b[38;5;28mself\u001b[39m\u001b[38;5;241m.\u001b[39m_qsize():\n\u001b[0;32m--> 171\u001b[0m         \u001b[38;5;28;43mself\u001b[39;49m\u001b[38;5;241;43m.\u001b[39;49m\u001b[43mnot_empty\u001b[49m\u001b[38;5;241;43m.\u001b[39;49m\u001b[43mwait\u001b[49m\u001b[43m(\u001b[49m\u001b[43m)\u001b[49m\n\u001b[1;32m    172\u001b[0m \u001b[38;5;28;01melif\u001b[39;00m timeout \u001b[38;5;241m<\u001b[39m \u001b[38;5;241m0\u001b[39m:\n\u001b[1;32m    173\u001b[0m     \u001b[38;5;28;01mraise\u001b[39;00m \u001b[38;5;167;01mValueError\u001b[39;00m(\u001b[38;5;124m\"\u001b[39m\u001b[38;5;124m'\u001b[39m\u001b[38;5;124mtimeout\u001b[39m\u001b[38;5;124m'\u001b[39m\u001b[38;5;124m must be a non-negative number\u001b[39m\u001b[38;5;124m\"\u001b[39m)\n",
      "File \u001b[0;32m/opt/conda/lib/python3.9/threading.py:312\u001b[0m, in \u001b[0;36mCondition.wait\u001b[0;34m(self, timeout)\u001b[0m\n\u001b[1;32m    310\u001b[0m \u001b[38;5;28;01mtry\u001b[39;00m:    \u001b[38;5;66;03m# restore state no matter what (e.g., KeyboardInterrupt)\u001b[39;00m\n\u001b[1;32m    311\u001b[0m     \u001b[38;5;28;01mif\u001b[39;00m timeout \u001b[38;5;129;01mis\u001b[39;00m \u001b[38;5;28;01mNone\u001b[39;00m:\n\u001b[0;32m--> 312\u001b[0m         \u001b[43mwaiter\u001b[49m\u001b[38;5;241;43m.\u001b[39;49m\u001b[43macquire\u001b[49m\u001b[43m(\u001b[49m\u001b[43m)\u001b[49m\n\u001b[1;32m    313\u001b[0m         gotit \u001b[38;5;241m=\u001b[39m \u001b[38;5;28;01mTrue\u001b[39;00m\n\u001b[1;32m    314\u001b[0m     \u001b[38;5;28;01melse\u001b[39;00m:\n",
      "\u001b[0;31mKeyboardInterrupt\u001b[0m: "
     ]
    },
    {
     "data": {
      "image/png": "[encoded data removed]",
      "text/plain": [
       "<Figure size 432x288 with 1 Axes>"
      ]
     },
     "metadata": {
      "needs_background": "light"
     },
     "output_type": "display_data"
    }
   ],
   "source": [
    "bad_zarrs = []\n",
    "good_zarrs = []\n",
    "\n",
    "for dataset_date in dates:\n",
    "    data = get_zarrs(Bucket, dataset_date)\n",
    "    for zarr in data:\n",
    "        test_zarr(Bucket, dataset_date, zarr)\n",
    "        \n",
    "print(\"Bad Zarrs:\", bad_zarrs)\n",
    "print(\"Good Zarrs:\", good_zarrs)"
   ]
  },
  {
   "cell_type": "code",
   "execution_count": null,
   "id": "7ecb20d3-4829-443f-83d1-8bea47fe61e3",
   "metadata": {},
   "outputs": [],
   "source": []
  }
 ],
 "metadata": {
  "kernelspec": {
   "display_name": "Python 3 (ipykernel)",
   "language": "python",
   "name": "python3"
  },
  "language_info": {
   "codemirror_mode": {
    "name": "ipython",
    "version": 3
   },
   "file_extension": ".py",
   "mimetype": "text/x-python",
   "name": "python",
   "nbconvert_exporter": "python",
   "pygments_lexer": "ipython3",
   "version": "3.9.10"
  }
 },
 "nbformat": 4,
 "nbformat_minor": 5
}
